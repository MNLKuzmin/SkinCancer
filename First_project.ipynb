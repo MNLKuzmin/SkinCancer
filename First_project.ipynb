{
 "cells": [
  {
   "cell_type": "markdown",
   "id": "1cb2fe82",
   "metadata": {},
   "source": [
    "First try out notebook for 5 possible project proposals"
   ]
  }
 ],
 "metadata": {
  "kernelspec": {
   "display_name": "Python [conda env:learn-env] *",
   "language": "python",
   "name": "conda-env-learn-env-py"
  },
  "language_info": {
   "codemirror_mode": {
    "name": "ipython",
    "version": 3
   },
   "file_extension": ".py",
   "mimetype": "text/x-python",
   "name": "python",
   "nbconvert_exporter": "python",
   "pygments_lexer": "ipython3",
   "version": "3.6.6"
  }
 },
 "nbformat": 4,
 "nbformat_minor": 5
}
